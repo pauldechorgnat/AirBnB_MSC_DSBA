{
 "cells": [
  {
   "cell_type": "markdown",
   "metadata": {},
   "source": [
    "# Churn prediction"
   ]
  },
  {
   "cell_type": "code",
   "execution_count": 1,
   "metadata": {},
   "outputs": [
    {
     "name": "stdout",
     "output_type": "stream",
     "text": [
      "['age_gender_bkts.csv', 'countries.csv', 'sample_submission_NDF.csv', 'sessions.csv', 'test_users.csv', 'train_users_2.csv']\n"
     ]
    }
   ],
   "source": [
    "path = 'C:/Users/Paul/Desktop/MSc DSBA/4. Machine Learning/Kaggle Competition'\n",
    "from os import listdir \n",
    "print(listdir(path+ '/Datasets'))"
   ]
  },
  {
   "cell_type": "markdown",
   "metadata": {},
   "source": [
    "### Data information\n",
    "\n",
    "#### train_users.csv - the training set of users\n",
    "#### test_users.csv - the test set of users\n",
    "        id: user id\n",
    "        date_account_created: the date of account creation\n",
    "        timestamp_first_active: timestamp of the first activity, note that it can be earlier than date_account_created or date_first_booking because a user can search before signing up\n",
    "        date_first_booking: date of first booking\n",
    "        gender\n",
    "        age\n",
    "        signup_method\n",
    "        signup_flow: the page a user came to signup up from\n",
    "        language: international language preference\n",
    "        affiliate_channel: what kind of paid marketing\n",
    "        affiliate_provider: where the marketing is e.g. google, craigslist, other\n",
    "        first_affiliate_tracked: whats the first marketing the user interacted with before the signing up\n",
    "        signup_app\n",
    "        first_device_type\n",
    "        first_browser\n",
    "        country_destination: this is the target variable you are to predict\n",
    "#### sessions.csv - web sessions log for users\n",
    "        user_id: to be joined with the column 'id' in users table\n",
    "        action\n",
    "        action_type\n",
    "        action_detail\n",
    "        device_type\n",
    "        secs_elapsed\n",
    "#### countries.csv - summary statistics of destination countries in this dataset and their locations\n",
    "#### age_gender_bkts.csv - summary statistics of users' age group, gender, country of destination\n",
    "#### sample_submission.csv - correct format for submitting your predictions"
   ]
  },
  {
   "cell_type": "markdown",
   "metadata": {},
   "source": [
    "## Importing packages"
   ]
  },
  {
   "cell_type": "code",
   "execution_count": 2,
   "metadata": {
    "collapsed": true
   },
   "outputs": [],
   "source": [
    "import pandas as pd \n",
    "import numpy as np\n",
    "import matplotlib.pyplot as plt\n",
    "%matplotlib inline"
   ]
  },
  {
   "cell_type": "markdown",
   "metadata": {},
   "source": [
    "### Loading datasets"
   ]
  },
  {
   "cell_type": "code",
   "execution_count": 3,
   "metadata": {
    "collapsed": true
   },
   "outputs": [],
   "source": [
    "age_gender = pd.read_csv(path + '/Datasets/age_gender_bkts.csv')"
   ]
  },
  {
   "cell_type": "code",
   "execution_count": 4,
   "metadata": {
    "collapsed": true
   },
   "outputs": [],
   "source": [
    "countries = pd.read_csv(path + '/Datasets/countries.csv')"
   ]
  },
  {
   "cell_type": "code",
   "execution_count": 5,
   "metadata": {
    "collapsed": true
   },
   "outputs": [],
   "source": [
    "sessions = pd.read_csv(path + '/Datasets/sessions.csv')"
   ]
  },
  {
   "cell_type": "code",
   "execution_count": 6,
   "metadata": {
    "collapsed": true
   },
   "outputs": [],
   "source": [
    "train = pd.read_csv(path + '/Datasets/train_users_2.csv', index_col=0)"
   ]
  },
  {
   "cell_type": "code",
   "execution_count": 7,
   "metadata": {
    "collapsed": true
   },
   "outputs": [],
   "source": [
    "test =  pd.read_csv(path + '/Datasets/test_users.csv')"
   ]
  },
  {
   "cell_type": "code",
   "execution_count": 8,
   "metadata": {},
   "outputs": [
    {
     "data": {
      "image/png": "[encoded data removed]",
      "text/plain": [
       "<matplotlib.figure.Figure at 0x282873abcc0>"
      ]
     },
     "metadata": {},
     "output_type": "display_data"
    }
   ],
   "source": [
    "plt.figure(figsize = (18,8))\n",
    "train.country_destination.value_counts().plot(kind = 'bar')\n",
    "plt.show()"
   ]
  },
  {
   "cell_type": "code",
   "execution_count": 9,
   "metadata": {
    "collapsed": true
   },
   "outputs": [],
   "source": [
    "# sample_submission = pd.read_csv(path + '/Datasets/sample_submission_NDF.csv')"
   ]
  },
  {
   "cell_type": "code",
   "execution_count": null,
   "metadata": {
    "collapsed": true,
    "scrolled": false
   },
   "outputs": [],
   "source": []
  },
  {
   "cell_type": "code",
   "execution_count": 10,
   "metadata": {
    "collapsed": true
   },
   "outputs": [],
   "source": [
    "def format_date_variables(data):\n",
    "    data['date_account_created'] = pd.to_datetime(data['date_account_created'], format = '%Y-%m-%d')\n",
    "    data['date_first_booking'] = pd.to_datetime(data['date_first_booking'], format = '%Y-%m-%d')\n",
    "    data['timestamp_first_active'] = data['timestamp_first_active'].apply(lambda x : \n",
    "                                                                            str(x)[:4]+'-'+str(x)[4:6]+'-'+str(x)[6:8])\n",
    "    data['timestamp_first_active'] = pd.to_datetime(data['timestamp_first_active'], format = '%Y-%m-%d')\n",
    "    \n",
    "    return data"
   ]
  },
  {
   "cell_type": "code",
   "execution_count": 11,
   "metadata": {
    "collapsed": true
   },
   "outputs": [],
   "source": [
    "train = format_date_variables(train)"
   ]
  },
  {
   "cell_type": "code",
   "execution_count": 12,
   "metadata": {
    "collapsed": true,
    "scrolled": true
   },
   "outputs": [],
   "source": [
    "def aggregate_variables(data, \n",
    "                        aggregating_variable = ['id'],\n",
    "                        aggregating_function = sum, \n",
    "                        chunksize = 10000, \n",
    "                        verbose = 1):\n",
    "    \n",
    "    # Preparing the sessions data\n",
    "    column_names = ['action', 'action_type', 'action_detail', 'device_type']\n",
    "    data['id'] = data['user_id']\n",
    "    \n",
    "    steps = int(data.shape[0]/chunksize)+1\n",
    "    if verbose >= 1 :\n",
    "        print('Number of steps : {}'.format(steps))\n",
    "    \n",
    "    list_of_data_sets = []   \n",
    "    \n",
    "    for i in range(steps):\n",
    "        # Print the number of the step\n",
    "        if verbose == 1:\n",
    "            print('Step '+str(i+1)+'/'+str(steps))\n",
    "            \n",
    "        # making small chunks of data\n",
    "        data_temp = data.iloc[i*chunksize:(i+1)*chunksize, :]\n",
    "        ids = data_temp.loc[:,aggregating_variable]\n",
    "        \n",
    "        dummies = []\n",
    "        \n",
    "        for col in column_names:\n",
    "            dummies.append(pd.get_dummies(data_temp[col], prefix = col, dummy_na=True))\n",
    "            \n",
    "        data_temp = pd.concat([pd.concat(dummies), ids], axis=0)\n",
    "        if np.random.uniform()>.999:\n",
    "            print(data_temp.head())\n",
    "        \n",
    "        data_agg = data_temp.groupby(aggregating_variable).sum()\n",
    "        \n",
    "        #data_agg = data_agg.reset_index(drop = False)\n",
    "        list_of_data_sets.append(data_agg)\n",
    "    \n",
    "    # get the latest chunk and treat it\n",
    "    data_temp = data.iloc[i*chunksize:,:]\n",
    "    ids = data_temp.loc[:,aggregating_variable]\n",
    "    dummies = []\n",
    "        \n",
    "    for col in column_names:\n",
    "        dummies.append(pd.get_dummies(data_temp[col], prefix = col, dummy_na=True))\n",
    "    \n",
    "    data_temp = pd.concat([pd.concat(dummies), ids], axis=0, ignore_index = True)\n",
    "\n",
    "    data_agg = data_temp.groupby(aggregating_variable).sum()\n",
    "    #data_agg = data_agg.reset_index(drop = False)    \n",
    "    list_of_data_sets.append(data_agg)  \n",
    "    \n",
    "    # Concatenating every chunks\n",
    "    data_final = pd.concat(list_of_data_sets, axis = 1)\n",
    "    column_final_names = list(data_final.columns)\n",
    "    data_final = data_final.reset_index()\n",
    "\n",
    "    print(column_final_names)\n",
    "    \n",
    "    #for i in aggregating_variable:\n",
    "        #column_final_names.remove(i)\n",
    "    print(data_final.head())\n",
    "    \n",
    "    data_final = data_final.groupby(aggregating_variable)[column_final_names].sum()\n",
    "    \n",
    "    return data_final"
   ]
  },
  {
   "cell_type": "code",
   "execution_count": 13,
   "metadata": {
    "collapsed": true,
    "scrolled": false
   },
   "outputs": [],
   "source": [
    "def plot_features(data = train, feature = 'first_browser', target_feature = 'country_destination', normalize = 0):\n",
    "    \n",
    "    mat = pd.crosstab(data[feature], data[target_feature], normalize=normalize)\n",
    "    mat.plot(kind = 'bar', figsize = (18,8))\n",
    "    plt.matshow(mat)\n",
    "    plt.xticks(range(len(mat.columns)), mat.columns)\n",
    "    plt.yticks(range(len(mat.index)), mat.index)\n",
    "    plt.title(feature)\n",
    "    plt.show()\n",
    "    return mat\n",
    "    "
   ]
  },
  {
   "cell_type": "code",
   "execution_count": 14,
   "metadata": {
    "collapsed": true,
    "scrolled": false
   },
   "outputs": [],
   "source": [
    "#train_without_dnf = train[train['country_destination']!='NDF']\n",
    "#for col in train.columns[:-1] :\n",
    "#    print(col)\n",
    "#    if train[col].dtype == object:\n",
    "#        plot_features(data = train_without_dnf, feature = col, target_feature = 'country_destination', normalize=1)"
   ]
  },
  {
   "cell_type": "markdown",
   "metadata": {},
   "source": [
    "### Study of age variable"
   ]
  },
  {
   "cell_type": "code",
   "execution_count": 15,
   "metadata": {},
   "outputs": [
    {
     "data": {
      "image/png": "[encoded data removed]",
      "text/plain": [
       "<matplotlib.figure.Figure at 0x282871d7320>"
      ]
     },
     "metadata": {},
     "output_type": "display_data"
    }
   ],
   "source": [
    "# We can assume that people over 70 are not very likely to use Airbnb\n",
    "# So their age must be wrong\n",
    "train.loc[train['age']>70,'age'] = np.NAN\n",
    "# We can assume that people under 15 are not leggally allowed to uuse Airbnb\n",
    "train.loc[train['age']<15,'age'] = np.NAN\n",
    "\n",
    "age_distribution = train.age.value_counts(normalize=1).sort_index()\n",
    "\n",
    "age_distribution.plot(kind = 'bar')\n",
    "plt.title('Distribution of age')\n",
    "plt.show()"
   ]
  },
  {
   "cell_type": "code",
   "execution_count": 16,
   "metadata": {},
   "outputs": [
    {
     "name": "stdout",
     "output_type": "stream",
     "text": [
      "== RELIABLE AGE ==\n",
      "People with reliable age : 56.97%\n",
      "Mean and std of reliable age : 36.06 +/- 10.77\n"
     ]
    }
   ],
   "source": [
    "# We define as reliable age an age that is between 15 and 70\n",
    "train['age_as_reliable'] = pd.notnull(train.age)\n",
    "\n",
    "# Computing mean and std of reliable age\n",
    "age_avg = np.mean(train.age[train.age_as_reliable])\n",
    "age_std = np.std(train.age[train.age_as_reliable])\n",
    "\n",
    "print('== RELIABLE AGE ==')\n",
    "print('People with reliable age : {}%'.format(round(sum(train['age_as_reliable'])/train.shape[0]*100, 2)))\n",
    "print('Mean and std of reliable age : {} +/- {}'.format(round(age_avg, 2), round(age_std,2)))\n"
   ]
  },
  {
   "cell_type": "markdown",
   "metadata": {},
   "source": [
    "### Study of sessions"
   ]
  },
  {
   "cell_type": "code",
   "execution_count": 17,
   "metadata": {
    "collapsed": true
   },
   "outputs": [],
   "source": [
    "for col in ['action', 'action_type', 'action_detail', 'device_type']:\n",
    "    sessions[col] = sessions[col].astype('category')"
   ]
  },
  {
   "cell_type": "code",
   "execution_count": 55,
   "metadata": {},
   "outputs": [],
   "source": [
    "times = sessions[['user_id', 'secs_elapsed']]"
   ]
  },
  {
   "cell_type": "code",
   "execution_count": 56,
   "metadata": {
    "scrolled": true
   },
   "outputs": [],
   "source": [
    "times_agg = times.groupby(['user_id']).agg({'secs_elapsed':['min', 'max', 'median', 'mean', 'count']})"
   ]
  },
  {
   "cell_type": "code",
   "execution_count": 59,
   "metadata": {},
   "outputs": [],
   "source": [
    "times_agg.columns = times_agg.columns.droplevel()"
   ]
  },
  {
   "cell_type": "code",
   "execution_count": 60,
   "metadata": {},
   "outputs": [],
   "source": [
    "times_agg.columns = np.array('time_') + times_agg.columns"
   ]
  },
  {
   "cell_type": "code",
   "execution_count": null,
   "metadata": {},
   "outputs": [],
   "source": []
  },
  {
   "cell_type": "code",
   "execution_count": 100,
   "metadata": {},
   "outputs": [],
   "source": [
    "times_agg = times_agg.reset_index()"
   ]
  },
  {
   "cell_type": "code",
   "execution_count": null,
   "metadata": {
    "collapsed": true
   },
   "outputs": [],
   "source": []
  },
  {
   "cell_type": "code",
   "execution_count": null,
   "metadata": {},
   "outputs": [],
   "source": []
  },
  {
   "cell_type": "code",
   "execution_count": null,
   "metadata": {
    "collapsed": true
   },
   "outputs": [],
   "source": []
  },
  {
   "cell_type": "code",
   "execution_count": null,
   "metadata": {
    "collapsed": true
   },
   "outputs": [],
   "source": []
  },
  {
   "cell_type": "code",
   "execution_count": null,
   "metadata": {
    "collapsed": true
   },
   "outputs": [],
   "source": []
  },
  {
   "cell_type": "code",
   "execution_count": null,
   "metadata": {
    "collapsed": true
   },
   "outputs": [],
   "source": []
  },
  {
   "cell_type": "code",
   "execution_count": null,
   "metadata": {
    "collapsed": true
   },
   "outputs": [],
   "source": []
  },
  {
   "cell_type": "code",
   "execution_count": null,
   "metadata": {
    "collapsed": true
   },
   "outputs": [],
   "source": []
  },
  {
   "cell_type": "code",
   "execution_count": null,
   "metadata": {
    "collapsed": true
   },
   "outputs": [],
   "source": []
  },
  {
   "cell_type": "code",
   "execution_count": null,
   "metadata": {
    "collapsed": true
   },
   "outputs": [],
   "source": []
  },
  {
   "cell_type": "code",
   "execution_count": null,
   "metadata": {
    "collapsed": true
   },
   "outputs": [],
   "source": []
  },
  {
   "cell_type": "code",
   "execution_count": null,
   "metadata": {
    "collapsed": true
   },
   "outputs": [],
   "source": []
  },
  {
   "cell_type": "code",
   "execution_count": null,
   "metadata": {
    "collapsed": true
   },
   "outputs": [],
   "source": []
  },
  {
   "cell_type": "code",
   "execution_count": null,
   "metadata": {
    "collapsed": true
   },
   "outputs": [],
   "source": []
  },
  {
   "cell_type": "code",
   "execution_count": null,
   "metadata": {
    "collapsed": true
   },
   "outputs": [],
   "source": []
  },
  {
   "cell_type": "code",
   "execution_count": null,
   "metadata": {
    "collapsed": true
   },
   "outputs": [],
   "source": []
  },
  {
   "cell_type": "code",
   "execution_count": null,
   "metadata": {
    "collapsed": true
   },
   "outputs": [],
   "source": []
  }
 ],
 "metadata": {
  "kernelspec": {
   "display_name": "Python [conda root]",
   "language": "python",
   "name": "conda-root-py"
  },
  "language_info": {
   "codemirror_mode": {
    "name": "ipython",
    "version": 3
   },
   "file_extension": ".py",
   "mimetype": "text/x-python",
   "name": "python",
   "nbconvert_exporter": "python",
   "pygments_lexer": "ipython3",
   "version": "3.5.3"
  }
 },
 "nbformat": 4,
 "nbformat_minor": 2
}
